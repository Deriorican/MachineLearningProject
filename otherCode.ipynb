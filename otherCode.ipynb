{
 "cells": [
  {
   "cell_type": "markdown",
   "metadata": {},
   "source": [
    "# Project in Mahine Learning"
   ]
  },
  {
   "cell_type": "markdown",
   "metadata": {},
   "source": [
    "Loading packages"
   ]
  },
  {
   "cell_type": "code",
   "execution_count": 1,
   "metadata": {},
   "outputs": [],
   "source": [
    "from utility import *\n",
    "from scipy.signal import savgol_filter"
   ]
  },
  {
   "cell_type": "code",
   "execution_count": 2,
   "metadata": {},
   "outputs": [],
   "source": [
    "try :\n",
    "    X1, X2, Y1 = open_data(\"C:\\\\Users\\\\Louis Lovat\\\\Desktop\\\\UNIF\\\\MachineLearning\\\\Project\\\\data\")\n",
    "except :\n",
    "    X1, X2, Y1 = open_data(\"C:\\\\Users\\\\hchri\\\\Jupyter\\\\Machine learning\\\\project_data\")\n",
    "    \n",
    "X2.drop([\"title\", \"is_adult\", \"img_url\", \"description\", \"Unnamed: 0\"], axis=1, inplace=True)\n",
    "X1_p = X1.drop([\"title\", \"is_adult\", \"img_url\", \"description\", \"Unnamed: 0\"], axis=1)\n",
    "colmns = ['ratings','n_votes','production_year','runtime','release_year']\n",
    "\n",
    "# General preprocessing\n",
    "\n",
    "X1_p = Binarize(X1_p, 'studio', 10)\n",
    "X1_p = Binarize(X1_p, 'genres', 5)\n",
    "\n",
    "X1_p = strToFloatArray(X1_p, \"text_embeddings\")\n",
    "X1_p = strToFloatArray(X1_p, \"img_embeddings\")\n"
   ]
  },
  {
   "cell_type": "code",
   "execution_count": 3,
   "metadata": {},
   "outputs": [
    {
     "name": "stdout",
     "output_type": "stream",
     "text": [
      "0 lin_reg : 59.137474902490986\n",
      "1 lin_reg : 58.012123095736435\n",
      "2 lin_reg : 58.75068492843233\n",
      "3 lin_reg : 56.118254543292714\n",
      "4 lin_reg : 53.104463202324006\n",
      "5 lin_reg : 59.53821030112622\n",
      "6 lin_reg : 55.6059737415561\n",
      "7 lin_reg : 61.471207845572756\n",
      "8 lin_reg : 67.04270558158711\n",
      "9 lin_reg : 62.06614279697108\n",
      "10 lin_reg : 58.51538808220679\n",
      "11 lin_reg : 56.00695940958382\n",
      "12 lin_reg : 57.989546317073454\n",
      "13 lin_reg : 54.161536138170256\n",
      "14 lin_reg : 61.46752327964345\n",
      "15 lin_reg : 58.98907135702514\n",
      "16 lin_reg : 65.10373143326801\n",
      "17 lin_reg : 60.45533774087024\n",
      "18 lin_reg : 58.15701518232661\n",
      "19 lin_reg : 51.31532339518491\n",
      "\n",
      " avg cst : 73.28507117885279\n",
      "avg lin_reg : 58.65043366372212\n"
     ]
    }
   ],
   "source": [
    "mean_cst = 0\n",
    "mean_line = 0\n",
    "Linear = Process(X1_p, Y1)\n",
    "\n",
    "for i in range(20):\n",
    "    Linear.setTrainTest()\n",
    "    Linear.X_train.fillna(Linear.X_train[\"runtime\"].mean(), inplace=True)\n",
    "    Linear.X_test.fillna(Linear.X_test[\"runtime\"].mean(), inplace=True)\n",
    "    \n",
    "    ## Feature selection\n",
    "    \n",
    "    Linear.PCA_embeddings(\"text_embeddings\", 100)\n",
    "    Linear.PCA_embeddings(\"img_embeddings\", 100)\n",
    "\n",
    "    #Linear.emb_most_corr(\"text_embeddings\")\n",
    "    #Linear.emb_most_corr(\"img_embeddings\")\n",
    "\n",
    "    Linear.removeDuplicate()\n",
    "    Linear.corrThreshold()\n",
    "    \n",
    "    # outliers ?\n",
    "    \n",
    "    ## regression\n",
    "    \n",
    "    Linear.addModel(\"linear\")\n",
    "    pred = Linear.useModel(\"linear\")\n",
    "    \n",
    "    mean_cst += compute_rmse(float(Linear.Y_train.mean())*1e-6*np.ones(len(Linear.Y_test)), Linear.Y_test*1e-6)\n",
    "    mean_line += compute_rmse(pred, Linear.Y_test*1e-6)\n",
    "    print(str(i) + \" lin_reg :\", compute_rmse(pred, Linear.Y_test*1e-6))\n",
    "\n",
    "print(\"\\n avg cst :\", mean_cst / 20)\n",
    "print('avg lin_reg :', mean_line/20)"
   ]
  },
  {
   "cell_type": "code",
   "execution_count": 4,
   "metadata": {},
   "outputs": [
    {
     "name": "stdout",
     "output_type": "stream",
     "text": [
      "0 knn_reg : 54.33279407403973\n",
      "1 knn_reg : 61.96627801323913\n",
      "2 knn_reg : 58.83516973259971\n",
      "3 knn_reg : 53.19122167776893\n",
      "4 knn_reg : 64.928458814459\n",
      "5 knn_reg : 58.29650995461185\n",
      "6 knn_reg : 51.261789710432225\n",
      "7 knn_reg : 58.13322437725713\n",
      "8 knn_reg : 70.28700443422848\n",
      "9 knn_reg : 57.22867342332505\n",
      "10 knn_reg : 50.24654346143765\n",
      "11 knn_reg : 53.6481148883533\n",
      "12 knn_reg : 58.29782650380052\n",
      "13 knn_reg : 57.30015545180761\n",
      "14 knn_reg : 59.307121576570154\n",
      "15 knn_reg : 56.3116286041745\n",
      "16 knn_reg : 60.32395203365073\n",
      "17 knn_reg : 58.52682847927354\n",
      "18 knn_reg : 63.2307033149553\n",
      "19 knn_reg : 62.123611767099746\n",
      "\n",
      " avg cst : 73.16685464288133\n",
      "avg knn_reg : 58.388880514654204\n"
     ]
    }
   ],
   "source": [
    "mean_cst = 0\n",
    "mean_knn = 0\n",
    "KNN = Process(X1_p, Y1)\n",
    "\n",
    "for i in range(20):\n",
    "    KNN.setTrainTest()\n",
    "    KNN.X_train.fillna(KNN.X_train[\"runtime\"].mean(), inplace=True)\n",
    "    KNN.X_test.fillna(KNN.X_test[\"runtime\"].mean(), inplace=True)\n",
    "\n",
    "    ## Feature selection\n",
    "    \n",
    "    KNN.PCA_embeddings(\"text_embeddings\", 100)\n",
    "    KNN.PCA_embeddings(\"img_embeddings\", 100)\n",
    "    KNN.removeDuplicate()\n",
    "    KNN.removeRedundantFeatures(threshold = 0.8)\n",
    "\n",
    "    #Linear.emb_most_corr(\"text_embeddings\")\n",
    "    #Linear.emb_most_corr(\"img_embeddings\")\n",
    "    \n",
    "    KNN.minmaxize(withOutliers = False) # outliers ?\n",
    "    KNN.corrThreshold()\n",
    "    \n",
    "    \n",
    "    ## regression\n",
    "    \n",
    "    KNN.addModel(\"knn\", n_neighbors = 9, p=1, weights = \"distance\")\n",
    "    pred = KNN.useModel(\"knn\")\n",
    "    \n",
    "    mean_cst += compute_rmse(float(KNN.Y_train.mean())*1e-6*np.ones(len(KNN.Y_test)), KNN.Y_test*1e-6)\n",
    "    mean_knn += compute_rmse(pred, KNN.Y_test*1e-6)\n",
    "    print(str(i) + \" knn_reg :\", compute_rmse(pred, KNN.Y_test*1e-6))\n",
    "\n",
    "print(\"\\n avg cst :\", mean_cst / 20)\n",
    "print('avg knn_reg :', mean_knn/20)"
   ]
  },
  {
   "cell_type": "code",
   "execution_count": 3,
   "metadata": {},
   "outputs": [],
   "source": [
    "process = Process(X1_p, Y1)"
   ]
  },
  {
   "cell_type": "code",
   "execution_count": 6,
   "metadata": {},
   "outputs": [
    {
     "name": "stdout",
     "output_type": "stream",
     "text": [
      "iteration 29 DONE\r"
     ]
    }
   ],
   "source": [
    "#We determine here wich number of neighbors is optimal\n",
    "\n",
    "first = 1\n",
    "last = 30\n",
    "N_neighbors = [i for i in range(first, last+1)]\n",
    "N_iterations = 30\n",
    "results = []\n",
    "for iteration in range(N_iterations):\n",
    "    process.setTrainTest()\n",
    "    process.X_train.fillna(process.X_train[\"runtime\"].mean(), inplace=True)\n",
    "    process.X_test.fillna(process.X_test[\"runtime\"].mean(), inplace=True)\n",
    "    ## Feature selection\n",
    "    process.PCA_embeddings(\"text_embeddings\", 100)\n",
    "    process.PCA_embeddings(\"img_embeddings\", 100)\n",
    "    process.removeDuplicate()\n",
    "    process.removeRedundantFeatures(threshold = 0.8)\n",
    "    process.corrThreshold()\n",
    "    ## Feature processing\n",
    "    process.minmaxize(withOutliers = False) # outliers ?\n",
    "\n",
    "    for n_neighbors in N_neighbors:\n",
    "        process.addModel(\"knn\", n_neighbors = n_neighbors, p=2, weights = \"uniform\")\n",
    "        pred = process.useModel(\"knn\")\n",
    "        \n",
    "        if iteration == 0:\n",
    "            results.append(compute_rmse(pred, process.Y_test*1e-6) / N_iterations)\n",
    "        else :\n",
    "            results[n_neighbors - first] += compute_rmse(pred, process.Y_test*1e-6) / N_iterations\n",
    "    print(\"iteration %d DONE\" % iteration, end=\"\\r\")"
   ]
  },
  {
   "cell_type": "code",
   "execution_count": 7,
   "metadata": {},
   "outputs": [
    {
     "name": "stdout",
     "output_type": "stream",
     "text": [
      "11\n"
     ]
    },
    {
     "data": {
      "image/png": "[encoded data removed]",
      "text/plain": [
       "<Figure size 640x480 with 1 Axes>"
      ]
     },
     "metadata": {},
     "output_type": "display_data"
    }
   ],
   "source": [
    "plt.plot(N_neighbors, results)\n",
    "plt.plot([N_neighbors[np.argmin(results)], N_neighbors[np.argmin(results)]], [np.min(results)-1, np.max(results)+1])\n",
    "print(N_neighbors[np.argmin(results)])\n",
    "plt.ylabel(\"Mean RMSE\")\n",
    "plt.xlabel(\"# neighbors\")\n",
    "plt.show()"
   ]
  },
  {
   "cell_type": "code",
   "execution_count": 8,
   "metadata": {},
   "outputs": [
    {
     "name": "stdout",
     "output_type": "stream",
     "text": [
      "iteration 19 DONE\r"
     ]
    }
   ],
   "source": [
    "#We determine here wich minkowski metric is optimal\n",
    "\n",
    "first = 1\n",
    "last = 10\n",
    "p_metrics = [i for i in range(first, last+1)]\n",
    "N_iterations = 20\n",
    "results = []\n",
    "for iteration in range(N_iterations):\n",
    "    process.setTrainTest()\n",
    "    process.X_train.fillna(process.X_train[\"runtime\"].mean(), inplace=True)\n",
    "    process.X_test.fillna(process.X_test[\"runtime\"].mean(), inplace=True)\n",
    "    ## Feature selection\n",
    "    process.PCA_embeddings(\"text_embeddings\", 100)\n",
    "    process.PCA_embeddings(\"img_embeddings\", 100)\n",
    "    process.removeDuplicate()\n",
    "    process.removeRedundantFeatures(threshold = 0.8)\n",
    "    process.corrThreshold()\n",
    "    ## Feature processing\n",
    "    process.minmaxize(withOutliers = False) # outliers ?\n",
    "\n",
    "    for p in p_metrics:\n",
    "        process.addModel(\"knn\", n_neighbors = 9, p=p, weights = \"uniform\")\n",
    "        pred = process.useModel(\"knn\")\n",
    "        \n",
    "        if iteration == 0:\n",
    "            results.append(compute_rmse(pred, process.Y_test*1e-6) / N_iterations)\n",
    "        else :\n",
    "            results[p - first] += compute_rmse(pred, process.Y_test*1e-6) / N_iterations\n",
    "    print(\"iteration %d DONE\" % iteration, end=\"\\r\")"
   ]
  },
  {
   "cell_type": "code",
   "execution_count": 9,
   "metadata": {},
   "outputs": [
    {
     "name": "stdout",
     "output_type": "stream",
     "text": [
      "1\n"
     ]
    },
    {
     "data": {
      "image/png": "[encoded data removed]",
      "text/plain": [
       "<Figure size 640x480 with 1 Axes>"
      ]
     },
     "metadata": {},
     "output_type": "display_data"
    }
   ],
   "source": [
    "plt.plot(p_metrics, results)\n",
    "plt.plot([p_metrics[np.argmin(results)], p_metrics[np.argmin(results)]], [np.min(results)-1, np.max(results)+1])\n",
    "print(p_metrics[np.argmin(results)])\n",
    "plt.ylabel(\"Mean RMSE\")\n",
    "plt.xlabel(\"p variable of minkowski metric\")\n",
    "plt.show()"
   ]
  },
  {
   "cell_type": "code",
   "execution_count": 10,
   "metadata": {},
   "outputs": [
    {
     "name": "stdout",
     "output_type": "stream",
     "text": [
      "iteration 19 DONE\r"
     ]
    }
   ],
   "source": [
    "#We determine here if we should keep the ouliers while scaling\n",
    "\n",
    "first = 1\n",
    "last = 2\n",
    "outliers = [i for i in range(first, last+1)]\n",
    "N_iterations = 20\n",
    "results = []\n",
    "for iteration in range(N_iterations):\n",
    "    process.setTrainTest()\n",
    "    for outlier in outliers:\n",
    "        process.X_train.fillna(process.X_train[\"runtime\"].mean(), inplace=True)\n",
    "        process.X_test.fillna(process.X_test[\"runtime\"].mean(), inplace=True)\n",
    "        ## Feature selection\n",
    "        process.PCA_embeddings(\"text_embeddings\", 100)\n",
    "        process.PCA_embeddings(\"img_embeddings\", 100)\n",
    "        process.removeDuplicate()\n",
    "        process.removeRedundantFeatures(threshold = 0.8)\n",
    "        process.corrThreshold()\n",
    "        ## Feature processing\n",
    "        arg = False\n",
    "        if outlier == 1:\n",
    "            arg = True\n",
    "        process.minmaxize(withOutliers = arg) # outliers ?\n",
    "        process.addModel(\"knn\", n_neighbors = 9, p=1, weights = \"uniform\")\n",
    "        pred = process.useModel(\"knn\")\n",
    "        process.resetProcessing()\n",
    "        if iteration == 0:\n",
    "            results.append(compute_rmse(pred, process.Y_test*1e-6) / N_iterations)\n",
    "        else :\n",
    "            results[outlier - first] += compute_rmse(pred, process.Y_test*1e-6) / N_iterations\n",
    "    print(\"iteration %d DONE\" % iteration, end=\"\\r\")"
   ]
  },
  {
   "cell_type": "code",
   "execution_count": 11,
   "metadata": {},
   "outputs": [
    {
     "name": "stdout",
     "output_type": "stream",
     "text": [
      "2\n"
     ]
    },
    {
     "data": {
      "image/png": "[encoded data removed]",
      "text/plain": [
       "<Figure size 640x480 with 1 Axes>"
      ]
     },
     "metadata": {},
     "output_type": "display_data"
    }
   ],
   "source": [
    "plt.bar(outliers, results)\n",
    "print(outliers[np.argmin(results)])\n",
    "plt.ylabel(\"Mean RMSE\")\n",
    "plt.xlabel(\"presence of outliers (1 = with, 2 = without)\")\n",
    "plt.show()"
   ]
  },
  {
   "cell_type": "code",
   "execution_count": 12,
   "metadata": {},
   "outputs": [
    {
     "name": "stdout",
     "output_type": "stream",
     "text": [
      "iteration 19 DONE\r"
     ]
    }
   ],
   "source": [
    "#We determine here if we should keep the ouliers \n",
    "\n",
    "first = 1\n",
    "last = 2\n",
    "outliers = [i for i in range(first, last+1)]\n",
    "N_iterations = 20\n",
    "results = []\n",
    "for iteration in range(N_iterations):\n",
    "    process.setTrainTest()\n",
    "    for outlier in outliers:\n",
    "        process.X_train.fillna(process.X_train[\"runtime\"].mean(), inplace=True)\n",
    "        process.X_test.fillna(process.X_test[\"runtime\"].mean(), inplace=True)\n",
    "        ## Feature selection\n",
    "        process.PCA_embeddings(\"text_embeddings\", 100)\n",
    "        process.PCA_embeddings(\"img_embeddings\", 100)\n",
    "        process.removeDuplicate()\n",
    "        if outlier == 1:\n",
    "            process.removeOutliers(colmns)\n",
    "        process.removeRedundantFeatures(threshold = 0.8)\n",
    "        process.corrThreshold()\n",
    "        ## Feature processing\n",
    "        process.minmaxize(withOutliers = False) # outliers ?\n",
    "        process.addModel(\"knn\", n_neighbors = 9, p=1, weights = \"uniform\")\n",
    "        pred = process.useModel(\"knn\")\n",
    "        process.resetProcessing()\n",
    "        if iteration == 0:\n",
    "            results.append(compute_rmse(pred, process.Y_test*1e-6) / N_iterations)\n",
    "        else :\n",
    "            results[outlier - first] += compute_rmse(pred, process.Y_test*1e-6) / N_iterations\n",
    "    print(\"iteration %d DONE\" % iteration, end=\"\\r\")"
   ]
  },
  {
   "cell_type": "code",
   "execution_count": 13,
   "metadata": {},
   "outputs": [
    {
     "name": "stdout",
     "output_type": "stream",
     "text": [
      "2\n"
     ]
    },
    {
     "data": {
      "image/png": "[encoded data removed]",
      "text/plain": [
       "<Figure size 640x480 with 1 Axes>"
      ]
     },
     "metadata": {},
     "output_type": "display_data"
    }
   ],
   "source": [
    "plt.bar(outliers, results)\n",
    "print(outliers[np.argmin(results)])\n",
    "plt.ylabel(\"Mean RMSE\")\n",
    "plt.xlabel(\"presence of outliers (1 = without, 2 = with)\")\n",
    "plt.show()"
   ]
  },
  {
   "cell_type": "code",
   "execution_count": 16,
   "metadata": {},
   "outputs": [
    {
     "name": "stdout",
     "output_type": "stream",
     "text": [
      "0 rf_reg : 59.01043170889238\n",
      "1 rf_reg : 58.6625305509744\n",
      "2 rf_reg : 50.716646039049984\n",
      "3 rf_reg : 53.49058791664133\n",
      "4 rf_reg : 62.07409245360889\n",
      "5 rf_reg : 58.13979463300693\n",
      "6 rf_reg : 55.82782813381308\n",
      "7 rf_reg : 51.11335392809191\n",
      "8 rf_reg : 62.763401685446766\n",
      "9 rf_reg : 52.265499480663415\n",
      "10 rf_reg : 63.21045731829528\n",
      "11 rf_reg : 50.02576813046249\n",
      "12 rf_reg : 57.05455767517856\n",
      "13 rf_reg : 56.67518882828097\n",
      "14 rf_reg : 53.57793600167145\n",
      "15 rf_reg : 57.0836754912137\n",
      "16 rf_reg : 56.84448239963935\n",
      "17 rf_reg : 57.696904186113784\n",
      "18 rf_reg : 56.95746793849946\n",
      "19 rf_reg : 52.98242966883022\n",
      "\n",
      " avg cst : 72.47813190437842\n",
      "avg rf_reg : 56.30865170841871\n"
     ]
    }
   ],
   "source": [
    "mean_cst = 0\n",
    "mean_rf = 0\n",
    "RF = Process(X1_p, Y1)\n",
    "\n",
    "for i in range(20):\n",
    "    RF.setTrainTest()\n",
    "    RF.X_train.fillna(RF.X_train[\"runtime\"].mean(), inplace=True)\n",
    "    RF.X_test.fillna(RF.X_test[\"runtime\"].mean(), inplace=True)\n",
    "\n",
    "    ## Feature selection\n",
    "    \n",
    "    RF.PCA_embeddings(\"text_embeddings\", 100)\n",
    "    RF.PCA_embeddings(\"img_embeddings\", 100)\n",
    "    RF.removeDuplicate()\n",
    "    RF.removeRedundantFeatures(threshold = 0.8)\n",
    "\n",
    "    #Linear.emb_most_corr(\"text_embeddings\")\n",
    "    #Linear.emb_most_corr(\"img_embeddings\")\n",
    "    \n",
    "    RF.minmaxize(withOutliers = False) # outliers ?\n",
    "    RF.corrThreshold()\n",
    "    \n",
    "    \n",
    "    ## regression\n",
    "    RF.addModel(\"randomForest\", n_estimators = 90)\n",
    "    pred = RF.useModel(\"randomForest\")\n",
    "    \n",
    "    mean_cst += compute_rmse(float(RF.Y_train.mean())*1e-6*np.ones(len(RF.Y_test)), RF.Y_test*1e-6)\n",
    "    mean_rf += compute_rmse(pred, RF.Y_test*1e-6)\n",
    "    print(str(i) + \" rf_reg :\", compute_rmse(pred, RF.Y_test*1e-6))\n",
    "\n",
    "print(\"\\n avg cst :\", mean_cst / 20)\n",
    "print('avg rf_reg :', mean_rf/20)"
   ]
  },
  {
   "cell_type": "code",
   "execution_count": 6,
   "metadata": {},
   "outputs": [
    {
     "name": "stdout",
     "output_type": "stream",
     "text": [
      "iteration 19 DONE\r"
     ]
    }
   ],
   "source": [
    "#We determine here an optimal number of trees\n",
    "\n",
    "first = 50\n",
    "last = 150\n",
    "step = 10\n",
    "N_estimators = [i for i in range(first, last + step, step)]\n",
    "N_iterations = 20\n",
    "results = []\n",
    "for iteration in range(N_iterations):\n",
    "    process.setTrainTest()\n",
    "    for n_estimators in N_estimators:\n",
    "        process.X_train.fillna(process.X_train[\"runtime\"].mean(), inplace=True)\n",
    "        process.X_test.fillna(process.X_test[\"runtime\"].mean(), inplace=True)\n",
    "        ## Feature selection\n",
    "        process.PCA_embeddings(\"text_embeddings\", 100)\n",
    "        process.PCA_embeddings(\"img_embeddings\", 100)\n",
    "        process.removeDuplicate()\n",
    "        process.removeRedundantFeatures(threshold = 0.8)\n",
    "        process.corrThreshold()\n",
    "        ## Feature processing\n",
    "        process.minmaxize(withOutliers = False) # outliers ?\n",
    "        process.addModel(\"randomForest\", n_estimators = n_estimators)\n",
    "        pred = process.useModel(\"randomForest\")\n",
    "        process.resetProcessing()\n",
    "        if iteration == 0:\n",
    "            results.append(compute_rmse(pred, process.Y_test*1e-6) / N_iterations)\n",
    "        else :\n",
    "            results[(n_estimators - first) // step] += compute_rmse(pred, process.Y_test*1e-6) / N_iterations\n",
    "    print(\"iteration %d DONE\" % iteration, end=\"\\r\")"
   ]
  },
  {
   "cell_type": "code",
   "execution_count": 15,
   "metadata": {},
   "outputs": [
    {
     "name": "stdout",
     "output_type": "stream",
     "text": [
      "90\n"
     ]
    },
    {
     "data": {
      "image/png": "[encoded data removed]",
      "text/plain": [
       "<Figure size 640x480 with 1 Axes>"
      ]
     },
     "metadata": {},
     "output_type": "display_data"
    }
   ],
   "source": [
    "plt.plot(N_estimators, results)\n",
    "filtered = savgol_filter(results, window_length=len(results), polyorder=4)\n",
    "plt.plot(N_estimators, filtered)\n",
    "plt.plot([N_estimators[np.argmin(filtered)], N_estimators[np.argmin(filtered)]], [np.min(filtered)-1, np.max(filtered)+1])\n",
    "print(N_estimators[np.argmin(filtered)])\n",
    "plt.ylabel(\"Mean RMSE\")\n",
    "plt.xlabel(\"# of trees\")\n",
    "plt.show()"
   ]
  }
 ],
 "metadata": {
  "kernelspec": {
   "display_name": "Python 3",
   "language": "python",
   "name": "python3"
  },
  "language_info": {
   "codemirror_mode": {
    "name": "ipython",
    "version": 3
   },
   "file_extension": ".py",
   "mimetype": "text/x-python",
   "name": "python",
   "nbconvert_exporter": "python",
   "pygments_lexer": "ipython3",
   "version": "3.10.0"
  },
  "vscode": {
   "interpreter": {
    "hash": "6c4b669670de55a09d689e3d4ecca6dc3c283208733e1dbfe915e739bf3f36f7"
   }
  }
 },
 "nbformat": 4,
 "nbformat_minor": 4
}
